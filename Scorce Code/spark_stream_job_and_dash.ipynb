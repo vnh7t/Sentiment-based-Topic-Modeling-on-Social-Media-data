{
 "cells": [
  {
   "cell_type": "code",
   "execution_count": 5,
   "id": "f454853e-9f7e-4187-9fe7-539fa85ada05",
   "metadata": {
    "scrolled": true
   },
   "outputs": [
    {
     "name": "stderr",
     "output_type": "stream",
     "text": [
      "22/05/02 11:59:59 WARN TextSocketSourceProvider: The socket source should not be used for production applications! It does not support recovery.\n"
     ]
    },
    {
     "name": "stdout",
     "output_type": "stream",
     "text": [
      "----- streaming is running -------\n"
     ]
    },
    {
     "name": "stderr",
     "output_type": "stream",
     "text": [
      "22/05/02 12:00:01 WARN StreamingQueryManager: Temporary checkpoint location created which is deleted normally when the query didn't fail: /private/var/folders/87/_c2ttbjn7tl1w8dzqfn6nz7w0000gn/T/temporary-6b907440-72f1-436e-8527-f007e9243295. If it's required to delete it under any circumstances, please set spark.sql.streaming.forceDeleteTempCheckpointLocation to true. Important to know deleting temp checkpoint folder is best effort.\n"
     ]
    }
   ],
   "source": [
    "from pyspark.sql import SparkSession\n",
    "from pyspark.sql.functions import *\n",
    "from pyspark.sql.types import *\n",
    "from pyspark.sql.functions import col, split, explode, when\n",
    "from pyspark.conf import SparkConf\n",
    "from pyspark.context import SparkContext\n",
    "import time\n",
    "\n",
    "if __name__ == \"__main__\":\n",
    "    spark = SparkSession.builder.appName(\"TwitterSentimentAnalysis\").getOrCreate()\n",
    "\n",
    "    # read the tweet data from socket\n",
    "    tweet_daf = spark \\\n",
    "        .readStream \\\n",
    "        .format(\"socket\") \\\n",
    "        .option(\"host\", \"0.0.0.0\") \\\n",
    "        .option(\"port\", 5555) \\\n",
    "        .load()\n",
    "\n",
    "    # type cast the column value\n",
    "    tweet_df = tweet_daf.select(explode(split(col(\"value\"), \"TWEET__AN,\")).alias(\"value\"))\n",
    "    tweet_df_string = (tweet_df.withColumn('tweet', split(tweet_df['value'], '____SEP,').getItem(0)).withColumn('location', split(tweet_df['value'], '____SEP,').getItem(1)).withColumn('favorites', split(tweet_df['value'], '____SEP,').getItem(2)).withColumn('followers', split(tweet_df['value'], '____SEP,').getItem(3)).withColumn('timestamp', split(tweet_df['value'], '____SEP,').getItem(4)).withColumn('name', split(tweet_df['value'], '____SEP,').getItem(5)))\n",
    "    \n",
    "    tweet_df_string =tweet_df_string.drop(\"value\")\n",
    "    tweet_df_sentiment = pipelineFit.transform(tweet_df_string).drop(\"tokens\",\"filtered_words\",\"vector\",\"rawPrediction\",\"probability\")\n",
    "    tweet_df_sentiment=tweet_df_sentiment.withColumnRenamed(\"prediction\",\"sentiment\")\n",
    "    tweet_df_fl = pipelineFitBBC.transform(tweet_df_sentiment).drop(\"tokens\",\"filtered_words\",\"vector\",\"rawPrediction\",\"probability\",\"cf\")\n",
    "    tweet_df_fl = tweet_df_fl.withColumn(\"favorites\",col(\"favorites\").cast(\"int\")+1)\n",
    "    tweet_df_fl = tweet_df_fl.withColumn(\"followers\",col(\"followers\").cast(\"int\"))\n",
    "    # write the above data into memory. consider the entire analysis in all iteration (output mode = complete). and let the trigger runs in every 2 secs.\n",
    "    writeTweet = tweet_df_fl.writeStream.format(\"memory\").outputMode(\"append\").queryName(\"processed\").trigger(processingTime ='30 seconds').start()\n",
    "    print(\"----- streaming is running -------\")\n"
   ]
  },
  {
   "cell_type": "code",
   "execution_count": 15,
   "id": "a11a7aaf",
   "metadata": {},
   "outputs": [],
   "source": [
    "spark.stop()"
   ]
  },
  {
   "cell_type": "code",
   "execution_count": 10,
   "id": "4925906a",
   "metadata": {},
   "outputs": [],
   "source": [
    "tweets = spark.sql(\"select * from processed where tweet!=''\")"
   ]
  },
  {
   "cell_type": "code",
   "execution_count": 11,
   "id": "ea913139",
   "metadata": {},
   "outputs": [
    {
     "data": {
      "text/plain": [
       "992"
      ]
     },
     "execution_count": 11,
     "metadata": {},
     "output_type": "execute_result"
    }
   ],
   "source": [
    "tweets.count()"
   ]
  },
  {
   "cell_type": "code",
   "execution_count": null,
   "id": "0d64ab15",
   "metadata": {},
   "outputs": [],
   "source": [
    "df=tweets.toPandas()\n",
    "df.to_csv(\"output.csv\")"
   ]
  },
  {
   "cell_type": "code",
   "execution_count": null,
   "id": "ad11d756",
   "metadata": {},
   "outputs": [],
   "source": []
  },
  {
   "cell_type": "code",
   "execution_count": null,
   "id": "69999db4",
   "metadata": {},
   "outputs": [],
   "source": []
  }
 ],
 "metadata": {
  "kernelspec": {
   "display_name": "Python 3 (ipykernel)",
   "language": "python",
   "name": "python3"
  },
  "language_info": {
   "codemirror_mode": {
    "name": "ipython",
    "version": 3
   },
   "file_extension": ".py",
   "mimetype": "text/x-python",
   "name": "python",
   "nbconvert_exporter": "python",
   "pygments_lexer": "ipython3",
   "version": "3.9.6"
  }
 },
 "nbformat": 4,
 "nbformat_minor": 5
}
